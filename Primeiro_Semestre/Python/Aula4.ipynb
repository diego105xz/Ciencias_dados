{
 "cells": [
  {
   "cell_type": "markdown",
   "metadata": {},
   "source": [
    "# Bibliotecas Pandas"
   ]
  },
  {
   "cell_type": "markdown",
   "metadata": {},
   "source": [
    "## Modelos series"
   ]
  },
  {
   "cell_type": "code",
   "execution_count": 3,
   "metadata": {},
   "outputs": [
    {
     "name": "stdout",
     "output_type": "stream",
     "text": [
      "s1:\n",
      "0    5\n",
      "dtype: int64\n",
      "\n",
      "s2:\n",
      "0    Howard\n",
      "1       Ian\n",
      "2     Peter\n",
      "3     Jonah\n",
      "4    Kellie\n",
      "dtype: object\n"
     ]
    }
   ],
   "source": [
    "# Uma Series é um como um vetor de dados (unidimensional), capaz de armazenar diferentes tipos de dados. \n",
    "\n",
    "import pandas as pd\n",
    "\n",
    "s1 = pd.Series(data=5)  # Cria uma Series com o valor 5\n",
    "s2 = pd.Series('Howard Ian Peter Jonah Kellie'.split())  # Cria uma Series com uma lista de nomes\n",
    "\n",
    "print(\"s1:\")\n",
    "print(s1)\n",
    "\n",
    "print(\"\\ns2:\")\n",
    "print(s2)"
   ]
  },
  {
   "cell_type": "markdown",
   "metadata": {},
   "source": [
    "## Modelo Dataframe"
   ]
  },
  {
   "cell_type": "code",
   "execution_count": 4,
   "metadata": {},
   "outputs": [
    {
     "data": {
      "text/html": [
       "<div>\n",
       "<style scoped>\n",
       "    .dataframe tbody tr th:only-of-type {\n",
       "        vertical-align: middle;\n",
       "    }\n",
       "\n",
       "    .dataframe tbody tr th {\n",
       "        vertical-align: top;\n",
       "    }\n",
       "\n",
       "    .dataframe thead th {\n",
       "        text-align: right;\n",
       "    }\n",
       "</style>\n",
       "<table border=\"1\" class=\"dataframe\">\n",
       "  <thead>\n",
       "    <tr style=\"text-align: right;\">\n",
       "      <th></th>\n",
       "      <th>nome</th>\n",
       "    </tr>\n",
       "  </thead>\n",
       "  <tbody>\n",
       "    <tr>\n",
       "      <th>0</th>\n",
       "      <td>Howard</td>\n",
       "    </tr>\n",
       "    <tr>\n",
       "      <th>1</th>\n",
       "      <td>Ian</td>\n",
       "    </tr>\n",
       "    <tr>\n",
       "      <th>2</th>\n",
       "      <td>Peter</td>\n",
       "    </tr>\n",
       "    <tr>\n",
       "      <th>3</th>\n",
       "      <td>Jonah</td>\n",
       "    </tr>\n",
       "    <tr>\n",
       "      <th>4</th>\n",
       "      <td>Kellie</td>\n",
       "    </tr>\n",
       "  </tbody>\n",
       "</table>\n",
       "</div>"
      ],
      "text/plain": [
       "     nome\n",
       "0  Howard\n",
       "1     Ian\n",
       "2   Peter\n",
       "3   Jonah\n",
       "4  Kellie"
      ]
     },
     "execution_count": 4,
     "metadata": {},
     "output_type": "execute_result"
    }
   ],
   "source": [
    "# Um DataFrame é um conjunto de Series, ou, como a documentação apresenta, um contêiner para Series. \n",
    "df1 = pd.DataFrame(data='Howard Ian Peter Jonah Kellie'.split(), columns=['nome'])  # Cria um DataFrame de uma coluna a partir de uma lista\n",
    "\n",
    "df1"
   ]
  },
  {
   "cell_type": "code",
   "execution_count": 5,
   "metadata": {},
   "outputs": [
    {
     "data": {
      "text/html": [
       "<div>\n",
       "<style scoped>\n",
       "    .dataframe tbody tr th:only-of-type {\n",
       "        vertical-align: middle;\n",
       "    }\n",
       "\n",
       "    .dataframe tbody tr th {\n",
       "        vertical-align: top;\n",
       "    }\n",
       "\n",
       "    .dataframe thead th {\n",
       "        text-align: right;\n",
       "    }\n",
       "</style>\n",
       "<table border=\"1\" class=\"dataframe\">\n",
       "  <thead>\n",
       "    <tr style=\"text-align: right;\">\n",
       "      <th></th>\n",
       "      <th>nome</th>\n",
       "      <th>cpfs</th>\n",
       "      <th>idade</th>\n",
       "      <th>email</th>\n",
       "    </tr>\n",
       "  </thead>\n",
       "  <tbody>\n",
       "    <tr>\n",
       "      <th>0</th>\n",
       "      <td>Howard</td>\n",
       "      <td>111.111.111-11</td>\n",
       "      <td>32</td>\n",
       "      <td>risus.varius@dictumPhasellusin.ca</td>\n",
       "    </tr>\n",
       "    <tr>\n",
       "      <th>1</th>\n",
       "      <td>Ian</td>\n",
       "      <td>222.222.222-22</td>\n",
       "      <td>22</td>\n",
       "      <td>Nunc@vulputate.ca</td>\n",
       "    </tr>\n",
       "    <tr>\n",
       "      <th>2</th>\n",
       "      <td>Peter</td>\n",
       "      <td>333.333.333-33</td>\n",
       "      <td>25</td>\n",
       "      <td>fames.ac.turpis@cursusa.org</td>\n",
       "    </tr>\n",
       "    <tr>\n",
       "      <th>3</th>\n",
       "      <td>Jonah</td>\n",
       "      <td>444.444.444-44</td>\n",
       "      <td>29</td>\n",
       "      <td>non@felisullamcorper.org</td>\n",
       "    </tr>\n",
       "    <tr>\n",
       "      <th>4</th>\n",
       "      <td>Kellie</td>\n",
       "      <td>555.555.555-55</td>\n",
       "      <td>38</td>\n",
       "      <td>eget.dictum.placerat@necluctus.co.uk</td>\n",
       "    </tr>\n",
       "  </tbody>\n",
       "</table>\n",
       "</div>"
      ],
      "text/plain": [
       "     nome            cpfs  idade                                 email\n",
       "0  Howard  111.111.111-11     32     risus.varius@dictumPhasellusin.ca\n",
       "1     Ian  222.222.222-22     22                     Nunc@vulputate.ca\n",
       "2   Peter  333.333.333-33     25           fames.ac.turpis@cursusa.org\n",
       "3   Jonah  444.444.444-44     29              non@felisullamcorper.org\n",
       "4  Kellie  555.555.555-55     38  eget.dictum.placerat@necluctus.co.uk"
      ]
     },
     "execution_count": 5,
     "metadata": {},
     "output_type": "execute_result"
    }
   ],
   "source": [
    "lista_nomes = 'Howard Ian Peter Jonah Kellie'.split()\n",
    "lista_cpfs = '111.111.111-11 222.222.222-22 333.333.333-33 444.444.444-44 555.555.555-55'.split()\n",
    "lista_emails = 'risus.varius@dictumPhasellusin.ca Nunc@vulputate.ca fames.ac.turpis@cursusa.org non@felisullamcorper.org eget.dictum.placerat@necluctus.co.uk'.split()\n",
    "lista_idades = [32, 22, 25, 29, 38]\n",
    "\n",
    "# Cria uma lista de tuplas\n",
    "dados = list(zip(lista_nomes, lista_cpfs, lista_idades, lista_emails))\n",
    "\n",
    "# Cria um DataFrame a partir de uma lista de tuplas\n",
    "df2 = pd.DataFrame(dados, columns=['nome', 'cpfs', 'idade', 'email'])\n",
    "\n",
    "df2"
   ]
  },
  {
   "cell_type": "code",
   "execution_count": 43,
   "metadata": {},
   "outputs": [
    {
     "data": {
      "text/html": [
       "<div>\n",
       "<style scoped>\n",
       "    .dataframe tbody tr th:only-of-type {\n",
       "        vertical-align: middle;\n",
       "    }\n",
       "\n",
       "    .dataframe tbody tr th {\n",
       "        vertical-align: top;\n",
       "    }\n",
       "\n",
       "    .dataframe thead th {\n",
       "        text-align: right;\n",
       "    }\n",
       "</style>\n",
       "<table border=\"1\" class=\"dataframe\">\n",
       "  <thead>\n",
       "    <tr style=\"text-align: right;\">\n",
       "      <th></th>\n",
       "      <th>Survived</th>\n",
       "      <th>Pclass</th>\n",
       "      <th>Name</th>\n",
       "      <th>Sex</th>\n",
       "      <th>Age</th>\n",
       "      <th>Siblings/Spouses Aboard</th>\n",
       "      <th>Parents/Children Aboard</th>\n",
       "      <th>Fare</th>\n",
       "    </tr>\n",
       "  </thead>\n",
       "  <tbody>\n",
       "    <tr>\n",
       "      <th>0</th>\n",
       "      <td>0</td>\n",
       "      <td>3</td>\n",
       "      <td>Mr. Owen Harris Braund</td>\n",
       "      <td>male</td>\n",
       "      <td>22</td>\n",
       "      <td>1</td>\n",
       "      <td>0</td>\n",
       "      <td>7.2500</td>\n",
       "    </tr>\n",
       "    <tr>\n",
       "      <th>1</th>\n",
       "      <td>1</td>\n",
       "      <td>1</td>\n",
       "      <td>Mrs. John Bradley (Florence Briggs Thayer Cumi...</td>\n",
       "      <td>female</td>\n",
       "      <td>38</td>\n",
       "      <td>1</td>\n",
       "      <td>0</td>\n",
       "      <td>71.2833</td>\n",
       "    </tr>\n",
       "    <tr>\n",
       "      <th>2</th>\n",
       "      <td>1</td>\n",
       "      <td>3</td>\n",
       "      <td>Miss. Laina Heikkinen</td>\n",
       "      <td>female</td>\n",
       "      <td>26</td>\n",
       "      <td>0</td>\n",
       "      <td>0</td>\n",
       "      <td>7.9250</td>\n",
       "    </tr>\n",
       "    <tr>\n",
       "      <th>3</th>\n",
       "      <td>1</td>\n",
       "      <td>1</td>\n",
       "      <td>Mrs Jacques Heath (Lily May Peel) Futrelle</td>\n",
       "      <td>female</td>\n",
       "      <td>35</td>\n",
       "      <td>1</td>\n",
       "      <td>0</td>\n",
       "      <td>53.1000</td>\n",
       "    </tr>\n",
       "    <tr>\n",
       "      <th>4</th>\n",
       "      <td>0</td>\n",
       "      <td>3</td>\n",
       "      <td>Mr. William Henry Allen</td>\n",
       "      <td>male</td>\n",
       "      <td>35</td>\n",
       "      <td>0</td>\n",
       "      <td>0</td>\n",
       "      <td>8.0500</td>\n",
       "    </tr>\n",
       "  </tbody>\n",
       "</table>\n",
       "</div>"
      ],
      "text/plain": [
       "   Survived  Pclass                                               Name  \\\n",
       "0         0       3                             Mr. Owen Harris Braund   \n",
       "1         1       1  Mrs. John Bradley (Florence Briggs Thayer Cumi...   \n",
       "2         1       3                              Miss. Laina Heikkinen   \n",
       "3         1       1         Mrs Jacques Heath (Lily May Peel) Futrelle   \n",
       "4         0       3                            Mr. William Henry Allen   \n",
       "\n",
       "      Sex  Age  Siblings/Spouses Aboard  Parents/Children Aboard     Fare  \n",
       "0    male   22                        1                        0   7.2500  \n",
       "1  female   38                        1                        0  71.2833  \n",
       "2  female   26                        0                        0   7.9250  \n",
       "3  female   35                        1                        0  53.1000  \n",
       "4    male   35                        0                        0   8.0500  "
      ]
     },
     "execution_count": 43,
     "metadata": {},
     "output_type": "execute_result"
    }
   ],
   "source": [
    "import pandas as pd\n",
    "\n",
    "listaSurvived = [0, 1, 1, 1, 0]\n",
    "listaPclass = [3, 1, 3, 1, 3]\n",
    "listaNome = 'Mr. Owen Harris Braund|Mrs. John Bradley (Florence Briggs Thayer Cumings)|Miss. Laina Heikkinen|Mrs Jacques Heath (Lily May Peel) Futrelle|Mr. William Henry Allen'.split('|')\n",
    "listaSex = 'male|female|female|female|male'.split('|')\n",
    "listaAge = [22, 38, 26, 35, 35]\n",
    "listaSpousesAboard = [1, 1, 0 , 1, 0]\n",
    "listaChildrenAboard = [0, 0, 0, 0 ,0]\n",
    "listaFare = [7.2500, 71.2833, 7.9250, 53.10000, 8.0500]\n",
    "\n",
    "tabela = list(zip(listaSurvived, listaPclass, listaNome, listaSex, listaAge, listaSpousesAboard, listaChildrenAboard, listaFare))\n",
    "\n",
    "df3 = pd.DataFrame(tabela, columns=['Survived', 'Pclass', 'Name', 'Sex', 'Age', 'Siblings/Spouses Aboard', 'Parents/Children Aboard', 'Fare'])\n",
    "\n",
    "df3"
   ]
  },
  {
   "cell_type": "code",
   "execution_count": 24,
   "metadata": {},
   "outputs": [
    {
     "data": {
      "text/plain": [
       "0    22\n",
       "1    38\n",
       "2    26\n",
       "3    35\n",
       "4    35\n",
       "Name: Age, dtype: int64"
      ]
     },
     "execution_count": 24,
     "metadata": {},
     "output_type": "execute_result"
    }
   ],
   "source": [
    "# Para selecionar uma coluna usa-se a sintaxe: meu_df['coluna']\n",
    "\n",
    "df3['Age']"
   ]
  },
  {
   "cell_type": "code",
   "execution_count": 26,
   "metadata": {},
   "outputs": [
    {
     "data": {
      "text/html": [
       "<div>\n",
       "<style scoped>\n",
       "    .dataframe tbody tr th:only-of-type {\n",
       "        vertical-align: middle;\n",
       "    }\n",
       "\n",
       "    .dataframe tbody tr th {\n",
       "        vertical-align: top;\n",
       "    }\n",
       "\n",
       "    .dataframe thead th {\n",
       "        text-align: right;\n",
       "    }\n",
       "</style>\n",
       "<table border=\"1\" class=\"dataframe\">\n",
       "  <thead>\n",
       "    <tr style=\"text-align: right;\">\n",
       "      <th></th>\n",
       "      <th>Name</th>\n",
       "      <th>Age</th>\n",
       "      <th>Fare</th>\n",
       "    </tr>\n",
       "  </thead>\n",
       "  <tbody>\n",
       "    <tr>\n",
       "      <th>0</th>\n",
       "      <td>Mr. Owen Harris Braund</td>\n",
       "      <td>22</td>\n",
       "      <td>7.2500</td>\n",
       "    </tr>\n",
       "    <tr>\n",
       "      <th>1</th>\n",
       "      <td>Mrs. John Bradley (Florence Briggs Thayer Cum...</td>\n",
       "      <td>38</td>\n",
       "      <td>71.2833</td>\n",
       "    </tr>\n",
       "    <tr>\n",
       "      <th>2</th>\n",
       "      <td>Miss. Laina Heikkinen</td>\n",
       "      <td>26</td>\n",
       "      <td>7.9250</td>\n",
       "    </tr>\n",
       "    <tr>\n",
       "      <th>3</th>\n",
       "      <td>Mrs Jacques Heath (Lily May Peel) Futrelle</td>\n",
       "      <td>35</td>\n",
       "      <td>53.1000</td>\n",
       "    </tr>\n",
       "    <tr>\n",
       "      <th>4</th>\n",
       "      <td>Mr. William Henry Allen</td>\n",
       "      <td>35</td>\n",
       "      <td>8.0500</td>\n",
       "    </tr>\n",
       "  </tbody>\n",
       "</table>\n",
       "</div>"
      ],
      "text/plain": [
       "                                                Name  Age     Fare\n",
       "0                            Mr. Owen Harris Braund    22   7.2500\n",
       "1   Mrs. John Bradley (Florence Briggs Thayer Cum...   38  71.2833\n",
       "2                             Miss. Laina Heikkinen    26   7.9250\n",
       "3        Mrs Jacques Heath (Lily May Peel) Futrelle    35  53.1000\n",
       "4                            Mr. William Henry Allen   35   8.0500"
      ]
     },
     "execution_count": 26,
     "metadata": {},
     "output_type": "execute_result"
    }
   ],
   "source": [
    "# Para selecionar mais de uma coluna é preciso passar uma lista de colunas: meu_df[['coluna1', 'coluna2', 'coluna3']]\n",
    "df3[['Name','Age', 'Fare']]"
   ]
  },
  {
   "cell_type": "code",
   "execution_count": 50,
   "metadata": {},
   "outputs": [
    {
     "data": {
      "text/html": [
       "<div>\n",
       "<style scoped>\n",
       "    .dataframe tbody tr th:only-of-type {\n",
       "        vertical-align: middle;\n",
       "    }\n",
       "\n",
       "    .dataframe tbody tr th {\n",
       "        vertical-align: top;\n",
       "    }\n",
       "\n",
       "    .dataframe thead th {\n",
       "        text-align: right;\n",
       "    }\n",
       "</style>\n",
       "<table border=\"1\" class=\"dataframe\">\n",
       "  <thead>\n",
       "    <tr style=\"text-align: right;\">\n",
       "      <th></th>\n",
       "      <th>Survived</th>\n",
       "      <th>Pclass</th>\n",
       "      <th>Name</th>\n",
       "      <th>Sex</th>\n",
       "      <th>Age</th>\n",
       "      <th>Siblings/Spouses Aboard</th>\n",
       "      <th>Parents/Children Aboard</th>\n",
       "      <th>Fare</th>\n",
       "    </tr>\n",
       "  </thead>\n",
       "  <tbody>\n",
       "    <tr>\n",
       "      <th>0</th>\n",
       "      <td>0</td>\n",
       "      <td>3</td>\n",
       "      <td>Mr. Owen Harris Braund</td>\n",
       "      <td>male</td>\n",
       "      <td>22</td>\n",
       "      <td>1</td>\n",
       "      <td>0</td>\n",
       "      <td>7.25</td>\n",
       "    </tr>\n",
       "    <tr>\n",
       "      <th>4</th>\n",
       "      <td>0</td>\n",
       "      <td>3</td>\n",
       "      <td>Mr. William Henry Allen</td>\n",
       "      <td>male</td>\n",
       "      <td>35</td>\n",
       "      <td>0</td>\n",
       "      <td>0</td>\n",
       "      <td>8.05</td>\n",
       "    </tr>\n",
       "  </tbody>\n",
       "</table>\n",
       "</div>"
      ],
      "text/plain": [
       "   Survived  Pclass                     Name   Sex  Age  \\\n",
       "0         0       3   Mr. Owen Harris Braund  male   22   \n",
       "4         0       3  Mr. William Henry Allen  male   35   \n",
       "\n",
       "   Siblings/Spouses Aboard  Parents/Children Aboard  Fare  \n",
       "0                        1                        0  7.25  \n",
       "4                        0                        0  8.05  "
      ]
     },
     "execution_count": 50,
     "metadata": {},
     "output_type": "execute_result"
    }
   ],
   "source": [
    "# Filtrar somente os homens em um novo DataFrame.\n",
    "filtro_homem = df3['Sex'] == 'male'\n",
    "df3_homens = df3.loc[filtro_homem]  \n",
    "\n",
    "df3_homens"
   ]
  },
  {
   "cell_type": "code",
   "execution_count": 51,
   "metadata": {},
   "outputs": [
    {
     "data": {
      "text/html": [
       "<div>\n",
       "<style scoped>\n",
       "    .dataframe tbody tr th:only-of-type {\n",
       "        vertical-align: middle;\n",
       "    }\n",
       "\n",
       "    .dataframe tbody tr th {\n",
       "        vertical-align: top;\n",
       "    }\n",
       "\n",
       "    .dataframe thead th {\n",
       "        text-align: right;\n",
       "    }\n",
       "</style>\n",
       "<table border=\"1\" class=\"dataframe\">\n",
       "  <thead>\n",
       "    <tr style=\"text-align: right;\">\n",
       "      <th></th>\n",
       "      <th>Survived</th>\n",
       "      <th>Pclass</th>\n",
       "      <th>Name</th>\n",
       "      <th>Sex</th>\n",
       "      <th>Age</th>\n",
       "      <th>Siblings/Spouses Aboard</th>\n",
       "      <th>Parents/Children Aboard</th>\n",
       "      <th>Fare</th>\n",
       "    </tr>\n",
       "  </thead>\n",
       "  <tbody>\n",
       "    <tr>\n",
       "      <th>1</th>\n",
       "      <td>1</td>\n",
       "      <td>1</td>\n",
       "      <td>Mrs. John Bradley (Florence Briggs Thayer Cumi...</td>\n",
       "      <td>female</td>\n",
       "      <td>38</td>\n",
       "      <td>1</td>\n",
       "      <td>0</td>\n",
       "      <td>71.2833</td>\n",
       "    </tr>\n",
       "    <tr>\n",
       "      <th>2</th>\n",
       "      <td>1</td>\n",
       "      <td>3</td>\n",
       "      <td>Miss. Laina Heikkinen</td>\n",
       "      <td>female</td>\n",
       "      <td>26</td>\n",
       "      <td>0</td>\n",
       "      <td>0</td>\n",
       "      <td>7.9250</td>\n",
       "    </tr>\n",
       "    <tr>\n",
       "      <th>3</th>\n",
       "      <td>1</td>\n",
       "      <td>1</td>\n",
       "      <td>Mrs Jacques Heath (Lily May Peel) Futrelle</td>\n",
       "      <td>female</td>\n",
       "      <td>35</td>\n",
       "      <td>1</td>\n",
       "      <td>0</td>\n",
       "      <td>53.1000</td>\n",
       "    </tr>\n",
       "  </tbody>\n",
       "</table>\n",
       "</div>"
      ],
      "text/plain": [
       "   Survived  Pclass                                               Name  \\\n",
       "1         1       1  Mrs. John Bradley (Florence Briggs Thayer Cumi...   \n",
       "2         1       3                              Miss. Laina Heikkinen   \n",
       "3         1       1         Mrs Jacques Heath (Lily May Peel) Futrelle   \n",
       "\n",
       "      Sex  Age  Siblings/Spouses Aboard  Parents/Children Aboard     Fare  \n",
       "1  female   38                        1                        0  71.2833  \n",
       "2  female   26                        0                        0   7.9250  \n",
       "3  female   35                        1                        0  53.1000  "
      ]
     },
     "execution_count": 51,
     "metadata": {},
     "output_type": "execute_result"
    }
   ],
   "source": [
    "# um novo DataFrame somente com os passageiros que sobreviveram\n",
    "filtro_sobreviventes = df3['Survived'] == 1\n",
    "df3_sobreviventes = df3.loc[filtro_sobreviventes]\n",
    "\n",
    "df3_sobreviventes"
   ]
  },
  {
   "cell_type": "code",
   "execution_count": 54,
   "metadata": {},
   "outputs": [
    {
     "data": {
      "text/html": [
       "<div>\n",
       "<style scoped>\n",
       "    .dataframe tbody tr th:only-of-type {\n",
       "        vertical-align: middle;\n",
       "    }\n",
       "\n",
       "    .dataframe tbody tr th {\n",
       "        vertical-align: top;\n",
       "    }\n",
       "\n",
       "    .dataframe thead th {\n",
       "        text-align: right;\n",
       "    }\n",
       "</style>\n",
       "<table border=\"1\" class=\"dataframe\">\n",
       "  <thead>\n",
       "    <tr style=\"text-align: right;\">\n",
       "      <th></th>\n",
       "      <th>Survived</th>\n",
       "      <th>Pclass</th>\n",
       "      <th>Name</th>\n",
       "      <th>Sex</th>\n",
       "      <th>Age</th>\n",
       "      <th>Siblings/Spouses Aboard</th>\n",
       "      <th>Parents/Children Aboard</th>\n",
       "      <th>Fare</th>\n",
       "    </tr>\n",
       "  </thead>\n",
       "  <tbody>\n",
       "  </tbody>\n",
       "</table>\n",
       "</div>"
      ],
      "text/plain": [
       "Empty DataFrame\n",
       "Columns: [Survived, Pclass, Name, Sex, Age, Siblings/Spouses Aboard, Parents/Children Aboard, Fare]\n",
       "Index: []"
      ]
     },
     "execution_count": 54,
     "metadata": {},
     "output_type": "execute_result"
    }
   ],
   "source": [
    "# um novo DataFrame contendo todos os homens que sobreviveram.\n",
    "filtro_sobreviventes = df3['Survived'] == 1\n",
    "filtro_homem = df3['Sex'] == 'male'\n",
    "\n",
    "df_titanic_homens_sobreviventes = df3.loc[(filtro_sobreviventes) &(filtro_homem)]\n",
    "\n",
    "df_titanic_homens_sobreviventes\n",
    "\n",
    "# pelo resultado não há sobreviventes homens"
   ]
  },
  {
   "cell_type": "markdown",
   "metadata": {},
   "source": [
    "## Biblioteca matplotlib"
   ]
  },
  {
   "cell_type": "code",
   "execution_count": 58,
   "metadata": {},
   "outputs": [
    {
     "data": {
      "image/png": "[encoded data removed]",
      "text/plain": [
       "<Figure size 640x480 with 1 Axes>"
      ]
     },
     "metadata": {},
     "output_type": "display_data"
    }
   ],
   "source": [
    "# biblioteca ncessaria e instalar o modulo pip install matplotlib\n",
    "\n",
    "import matplotlib.pyplot as plt\n",
    "\n",
    "# Para criar uma figura com um eixo, de forma explícita, usamos: \n",
    "\n",
    "fig, ax = plt.subplots(1, 1)\n"
   ]
  },
  {
   "cell_type": "code",
   "execution_count": 65,
   "metadata": {},
   "outputs": [
    {
     "data": {
      "image/png": "[encoded data removed]",
      "text/plain": [
       "<Figure size 640x480 with 2 Axes>"
      ]
     },
     "metadata": {},
     "output_type": "display_data"
    }
   ],
   "source": [
    "# Para criar uma figura com dois eixos (1 linha, 2 colunas), de forma explícita, usamos:\n",
    "\n",
    "fig, ax = plt.subplots(1, 2)\n"
   ]
  },
  {
   "cell_type": "code",
   "execution_count": 76,
   "metadata": {},
   "outputs": [
    {
     "data": {
      "text/plain": [
       "[<matplotlib.lines.Line2D at 0x1b2458e0740>]"
      ]
     },
     "execution_count": 76,
     "metadata": {},
     "output_type": "execute_result"
    },
    {
     "data": {
      "image/png": "[encoded data removed]",
      "text/plain": [
       "<Figure size 640x480 with 2 Axes>"
      ]
     },
     "metadata": {},
     "output_type": "display_data"
    }
   ],
   "source": [
    "import matplotlib.pyplot as plt\n",
    "\n",
    "# Criando uma figura com dois eixos (1 linha, 2 colunas)\n",
    "fig, ax = plt.subplots(1, 2)\n",
    "\n",
    "# Definindo os dados (substitua range(10) pelos seus dados)\n",
    "dados = range(5)\n",
    "\n",
    "# Plotando os dados no primeiro eixo\n",
    "ax[0].plot(dados)\n",
    "\n",
    "# Plotando os mesmos dados no segundo eixo (apenas como exemplo)\n",
    "ax[1].plot(dados)\n"
   ]
  },
  {
   "cell_type": "code",
   "execution_count": 81,
   "metadata": {},
   "outputs": [
    {
     "data": {
      "image/png": "[encoded data removed]",
      "text/plain": [
       "<Figure size 640x480 with 2 Axes>"
      ]
     },
     "metadata": {},
     "output_type": "display_data"
    }
   ],
   "source": [
    "import matplotlib.pyplot as plt\n",
    "\n",
    "# Criando uma figura com dois eixos (1 linha, 2 colunas)\n",
    "fig, ax = plt.subplots(1, 2)\n",
    "\n",
    "# Definindo os dados (substitua range(10) pelos seus dados)\n",
    "dados = range(10)\n",
    "dados2 = [x**4 for x in dados]  # Definindo os dados 2\n",
    "\n",
    "# Plotando os dados no primeiro eixo\n",
    "ax[0].plot(dados, color='blue', linestyle='--', label='Dados 1')\n",
    "ax[0].set_xlabel('X')\n",
    "ax[0].set_ylabel('Y')\n",
    "ax[0].set_title('Gráfico 1')\n",
    "ax[0].legend()\n",
    "\n",
    "# Plotando os dados no segundo eixo\n",
    "ax[1].plot(dados2, color='red', linestyle='-', label='Dados 2')\n",
    "ax[1].set_xlabel('X')\n",
    "ax[1].set_ylabel('Y')\n",
    "ax[1].set_title('Gráfico 2')\n",
    "ax[1].legend()\n",
    "\n",
    "# Ajustando o layout para evitar sobreposição\n",
    "plt.tight_layout()\n",
    "\n",
    "# Exibindo o gráfico\n",
    "plt.show()"
   ]
  }
 ],
 "metadata": {
  "kernelspec": {
   "display_name": "venv",
   "language": "python",
   "name": "python3"
  },
  "language_info": {
   "codemirror_mode": {
    "name": "ipython",
    "version": 3
   },
   "file_extension": ".py",
   "mimetype": "text/x-python",
   "name": "python",
   "nbconvert_exporter": "python",
   "pygments_lexer": "ipython3",
   "version": "3.12.2"
  }
 },
 "nbformat": 4,
 "nbformat_minor": 2
}
